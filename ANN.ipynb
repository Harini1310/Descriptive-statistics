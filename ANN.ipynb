{
  "nbformat": 4,
  "nbformat_minor": 0,
  "metadata": {
    "colab": {
      "name": "Untitled4.ipynb",
      "version": "0.3.2",
      "provenance": [],
      "include_colab_link": true
    },
    "kernelspec": {
      "name": "python3",
      "display_name": "Python 3"
    }
  },
  "cells": [
    {
      "cell_type": "markdown",
      "metadata": {
        "id": "view-in-github",
        "colab_type": "text"
      },
      "source": [
        "<a href=\"https://colab.research.google.com/github/Harini1310/Descriptive-statistics/blob/master/ANN.ipynb\" target=\"_parent\"><img src=\"https://colab.research.google.com/assets/colab-badge.svg\" alt=\"Open In Colab\"/></a>"
      ]
    },
    {
      "cell_type": "code",
      "metadata": {
        "id": "HVDkd-Xa8P1k",
        "colab_type": "code",
        "colab": {}
      },
      "source": [
        "from keras.models import Sequential\n",
        "from keras.layers import Dense\n",
        "import numpy as np\n",
        "from keras.optimizers import Adam\n",
        "\n"
      ],
      "execution_count": 0,
      "outputs": []
    },
    {
      "cell_type": "code",
      "metadata": {
        "id": "y5Vkpp9d8Umg",
        "colab_type": "code",
        "colab": {
          "base_uri": "https://localhost:8080/",
          "height": 89
        },
        "outputId": "85be6dcb-7c4a-495a-93e4-e934797b279c"
      },
      "source": [
        "model = Sequential()"
      ],
      "execution_count": 2,
      "outputs": [
        {
          "output_type": "stream",
          "text": [
            "WARNING: Logging before flag parsing goes to stderr.\n",
            "W0827 07:19:11.120259 140676426811264 deprecation_wrapper.py:119] From /usr/local/lib/python3.6/dist-packages/keras/backend/tensorflow_backend.py:74: The name tf.get_default_graph is deprecated. Please use tf.compat.v1.get_default_graph instead.\n",
            "\n"
          ],
          "name": "stderr"
        }
      ]
    },
    {
      "cell_type": "code",
      "metadata": {
        "id": "BL6DEJ788YLU",
        "colab_type": "code",
        "colab": {
          "base_uri": "https://localhost:8080/",
          "height": 107
        },
        "outputId": "e6443161-ea01-4adf-b864-cf5ccfd9b2f9"
      },
      "source": [
        "h1 = model.add(Dense(2,activation=\"sigmoid\",input_dim=3))\n",
        "h2=model.add(Dense(3,activation=\"sigmoid\"))\n",
        "h3=model.add(Dense(2,activation=\"sigmoid\"))"
      ],
      "execution_count": 3,
      "outputs": [
        {
          "output_type": "stream",
          "text": [
            "W0827 07:19:27.176518 140676426811264 deprecation_wrapper.py:119] From /usr/local/lib/python3.6/dist-packages/keras/backend/tensorflow_backend.py:517: The name tf.placeholder is deprecated. Please use tf.compat.v1.placeholder instead.\n",
            "\n",
            "W0827 07:19:27.194141 140676426811264 deprecation_wrapper.py:119] From /usr/local/lib/python3.6/dist-packages/keras/backend/tensorflow_backend.py:4138: The name tf.random_uniform is deprecated. Please use tf.random.uniform instead.\n",
            "\n"
          ],
          "name": "stderr"
        }
      ]
    },
    {
      "cell_type": "code",
      "metadata": {
        "id": "T69zHrho9JHC",
        "colab_type": "code",
        "colab": {}
      },
      "source": [
        "model.compile(loss=\"categorical_crossentropy\",optimizer=\"Adam\",metrics=['accuracy'])"
      ],
      "execution_count": 0,
      "outputs": []
    },
    {
      "cell_type": "code",
      "metadata": {
        "id": "TBXZs8WA8faG",
        "colab_type": "code",
        "colab": {
          "base_uri": "https://localhost:8080/",
          "height": 69
        },
        "outputId": "6e1f424c-f2ed-4871-d8dc-666916318db0"
      },
      "source": [
        "ith=np.array([[0.2,-0.3],[0.4,0.1],[-0.5,0.2]])\n",
        "bias1=np.array([0.2,0.1])\n",
        "l=[]\n",
        "l.append(ith)\n",
        "l.append(bias1)\n",
        "model.layers[0].set_weights(l)\n",
        "model.layers[0].get_weights()\n",
        "\n",
        "hth=np.array([[-0.3,0.2,0.6],[-0.2,-0.1,-0.2]])\n",
        "bias2=np.array([0.1,0.1,0.2])\n",
        "j=[]\n",
        "j.append(hth)\n",
        "j.append(bias2)\n",
        "model.layers[1].set_weights(j) \n",
        "model.layers[1].get_weights()\n",
        "hto= np.array([[0.3,0.2],[-0.5,0.5],[-0.7,0.2]])\n",
        "bias3= np.array([0.1,0.2])\n",
        "l=  []\n",
        "l.append(hto)\n",
        "l.append(bias3)\n",
        "model.layers[2].set_weights(l) \n",
        "model.layers[2].get_weights()"
      ],
      "execution_count": 26,
      "outputs": [
        {
          "output_type": "execute_result",
          "data": {
            "text/plain": [
              "[array([[ 0.3,  0.2],\n",
              "        [-0.5,  0.5],\n",
              "        [-0.7,  0.2]], dtype=float32), array([0.1, 0.2], dtype=float32)]"
            ]
          },
          "metadata": {
            "tags": []
          },
          "execution_count": 26
        }
      ]
    },
    {
      "cell_type": "code",
      "metadata": {
        "id": "JdhS0h3-AlFH",
        "colab_type": "code",
        "colab": {}
      },
      "source": [
        "model.compile(loss=\"mean_squared_error\",optimizer=Adam(lr=0.9),metrics=['accuracy'])"
      ],
      "execution_count": 0,
      "outputs": []
    },
    {
      "cell_type": "code",
      "metadata": {
        "id": "A8zvQYVaAoRY",
        "colab_type": "code",
        "colab": {
          "base_uri": "https://localhost:8080/",
          "height": 243
        },
        "outputId": "90068eae-4612-494c-8e79-ac8f08f4cb67"
      },
      "source": [
        "model.summary()"
      ],
      "execution_count": 28,
      "outputs": [
        {
          "output_type": "stream",
          "text": [
            "_________________________________________________________________\n",
            "Layer (type)                 Output Shape              Param #   \n",
            "=================================================================\n",
            "dense_1 (Dense)              (None, 2)                 8         \n",
            "_________________________________________________________________\n",
            "dense_2 (Dense)              (None, 3)                 9         \n",
            "_________________________________________________________________\n",
            "dense_3 (Dense)              (None, 2)                 8         \n",
            "=================================================================\n",
            "Total params: 25\n",
            "Trainable params: 25\n",
            "Non-trainable params: 0\n",
            "_________________________________________________________________\n"
          ],
          "name": "stdout"
        }
      ]
    },
    {
      "cell_type": "code",
      "metadata": {
        "id": "x9cT3HJrAyXh",
        "colab_type": "code",
        "colab": {
          "base_uri": "https://localhost:8080/",
          "height": 156
        },
        "outputId": "874d7d36-ffdb-454f-808c-af38bdf4c2d6"
      },
      "source": [
        "print(model.layers[0].get_weights())\n",
        "print(model.layers[1].get_weights())\n",
        "print(model.layers[2].get_weights())\n"
      ],
      "execution_count": 31,
      "outputs": [
        {
          "output_type": "stream",
          "text": [
            "[array([[-0.46940988,  0.3688088 ],\n",
            "       [ 0.4       ,  0.1       ],\n",
            "       [-1.1694099 ,  0.8688088 ]], dtype=float32), array([-0.46940988,  0.76880884], dtype=float32)]\n",
            "[array([[ 0.36843312, -0.4695986 , -0.06957984],\n",
            "       [ 0.4684974 , -0.76960474, -0.8695868 ]], dtype=float32), array([ 0.7691086 , -0.5696628 , -0.46965384], dtype=float32)]\n",
            "[array([[ 0.9696895 , -0.46969008],\n",
            "       [ 0.16969371, -0.16969424],\n",
            "       [-0.03030366, -0.46969688]], dtype=float32), array([ 0.7697062 , -0.46970654], dtype=float32)]\n"
          ],
          "name": "stdout"
        }
      ]
    }
  ]
}